{
  "nbformat": 4,
  "nbformat_minor": 0,
  "metadata": {
    "colab": {
      "provenance": []
    },
    "kernelspec": {
      "name": "python3",
      "display_name": "Python 3"
    },
    "language_info": {
      "name": "python"
    }
  },
  "cells": [
    {
      "cell_type": "markdown",
      "source": [
        "## **Instituto Tecnológico y de Estudios Superiores de Monterrey**\n",
        "\n",
        "## Maestría en Inteligencia Artificial Aplicada - MNA\n",
        "\n",
        "### Proyecto Integrador(Gpo 10)\n",
        "\n",
        "\n",
        "### **Profesores:**\n",
        "\n",
        "Dra. Grettel Barceló Alonso\n",
        "\n",
        "Dr. Luis Eduardo Falcón Morales\n"
      ],
      "metadata": {
        "id": "RtbcuMwoB7eX"
      }
    },
    {
      "cell_type": "markdown",
      "source": [
        "# **Avance 1. Análisis exploratorio de datos**"
      ],
      "metadata": {
        "id": "xLROYyDRCol7"
      }
    },
    {
      "cell_type": "markdown",
      "source": [
        "## **Equipo 8**\n",
        "### Samantha Mancias Carrillo - A01196762\n",
        "### Sofia Mancias Carrillo - A01196563\n",
        "### Gustavo Guerrero Villa - A01207677\n"
      ],
      "metadata": {
        "id": "ykRP0zc5BuZw"
      }
    },
    {
      "cell_type": "markdown",
      "source": [
        "\n",
        "\n",
        "---\n",
        "\n"
      ],
      "metadata": {
        "id": "ROnYwvDcCDBf"
      }
    },
    {
      "cell_type": "markdown",
      "source": [
        "Para este reporte hemos tenido la oportunidad de hablar por primera vez con el Dr. Cortés sobre el proyecto. Por cuestiones de su agenda no se nos había podido brindar la oportunidad de conectar y profundizar respecto al proyecto.\n",
        "\n",
        "Se habló con la Dra.Grettel también y le comentamos la situación donde ella nos comentó que tanto el Dr.Falcón, como ella, están enterados que nuestro proyecto es de una naturaleza diferente y se abordará de manera diferente. Por el momento estamos a la espera de la agenda aprovada por el Dr.Cortés con respecto a las entregas y lo que se espera que se tenga como entregable para presentar como integrador.\n",
        "\n",
        "Para el  proyecto ya tenemos establecido que el Dr. Cortés pediré el codigo base a Wizeline (que como ya se habia comentado es el código de organización de las herramientas de IA) y lo modificaremos para poder mapearlo por industria. Además de que estaremos haciendo una valoración en cuestion de verificación para comporbar que las herramientas se están clasificando de manera correcta a lo que se solicita. Por esta parte estaremos haciendo uso de web crawling para poder hacer la clasificacion."
      ],
      "metadata": {
        "id": "4VagDgjg2Oxk"
      }
    },
    {
      "cell_type": "markdown",
      "source": [
        "Estamos iniciando el laboratoio.\n",
        "\n",
        "**Se han acordado hasta el momento dos maneras para su ejecución**\n",
        "- Talleres de industria, apalancando metodologías tales como design thinking, entre otras. Es importante ayudar a las diferentes organizaciones y stakeholders del campo de la inteligencia artificial a aterrizar lo que es el valor de negocio derivado de este tipo de aplicaciones, buscando garantizar un impacto real derivado del uso de estas. A su vez se tienen contemplados pilares como el Change Management porque sabemos que en una ecuación de transformación no solo es importante la tecnología sino también los procesos y las personas.\n",
        "- Wizeline, para organizar las herramienta que estan existiendo. Consideramos importante el apalancar una plataforma establecida para buscar extender lo que hoy en día se hace hacia el punto que buscamos lograr con este proyecto.\n",
        "\n",
        "*Ejemplos:*\n",
        "* *Organización -> mapa por industria*\n",
        "* *Modificaciones al código*\n",
        "* *Validación de resultados*\n",
        "* *Publicación*\n",
        "* *Web Crawling*\n",
        "\n",
        "El poder acercar a las organizaciones y a las diferentes industrias de México y Latinamerica a este tipo de información será de mucho valor y acelerará los procesos y los beneficios derivados de la adopción de estas tecnologías.\n"
      ],
      "metadata": {
        "id": "WvL77OZ1OWzI"
      }
    },
    {
      "cell_type": "markdown",
      "source": [
        "En la junta con el Dr. Cortés se estableció que el proyecto en el que se va a trabajar este trimestre para entrega final de integrador es algo diferente a un proyecto de machine learning y tal cual no requiere de entrenamiento; por lo tanto algunas entregas de avances por parte de la clase podrían diferir."
      ],
      "metadata": {
        "id": "KSoOLSOtBAbO"
      }
    },
    {
      "cell_type": "markdown",
      "source": [
        "\n",
        "Por el momento esperamos por más información por parte del Dr. Cortés para continuar con el proyecto."
      ],
      "metadata": {
        "id": "KtXTvnpzBILh"
      }
    },
    {
      "cell_type": "markdown",
      "source": [
        "\n",
        "\n",
        "---\n",
        "\n"
      ],
      "metadata": {
        "id": "z7hYj8EfA8MZ"
      }
    }
  ]
}